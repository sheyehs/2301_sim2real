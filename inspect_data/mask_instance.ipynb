{
 "cells": [
  {
   "cell_type": "code",
   "execution_count": 1,
   "metadata": {},
   "outputs": [
    {
     "name": "stdout",
     "output_type": "stream",
     "text": [
      "Jupyter environment detected. Enabling Open3D WebVisualizer.\n",
      "[Open3D INFO] WebRTC GUI backend enabled.\n",
      "[Open3D INFO] WebRTCWindowSystem: HTTP handshake server disabled.\n"
     ]
    }
   ],
   "source": [
    "import numpy as np\n",
    "import open3d as o3d\n",
    "import os\n",
    "import cv2\n",
    "import matplotlib.pyplot as plt\n",
    "import json\n",
    "import glob"
   ]
  },
  {
   "cell_type": "code",
   "execution_count": 2,
   "metadata": {},
   "outputs": [],
   "source": [
    "data_dir = './2022-11-15'\n",
    "output_data_dir = data_dir + '_instances'\n",
    "os.makedirs(output_data_dir, exist_ok=True)\n",
    "tiers = {\n",
    "    # 'SongFeng':{\n",
    "\n",
    "    # },\n",
    "    'Toyota':{\n",
    "        '21092302':{\n",
    "            # '2022-04-18-rvbust_bright_lighting_lux1600',\n",
    "            # '2022-04-18-rvbust_dark_lighting_lux5',\n",
    "            # '2022-04-18-rvbust_normal_lighting_lux200',\n",
    "            '2022-10-03-rvbust_synthetic'\n",
    "        }\n",
    "    },\n",
    "    # 'ZSRobot':{\n",
    "    #     '6010018CSV':{\n",
    "\n",
    "    #     },\n",
    "    #     '6010022CSV':{\n",
    "\n",
    "    #     }\n",
    "    # }\n",
    "\n",
    "}"
   ]
  },
  {
   "cell_type": "code",
   "execution_count": 3,
   "metadata": {},
   "outputs": [],
   "source": [
    "def extract_model_pcd(data_dir, company, part):\n",
    "    model_path = os.path.join(data_dir, company, part, 'part_info', f'{part}.master.ply')\n",
    "    print('\\t\\textract model point cloud from:', model_path)\n",
    "    pcd = o3d.io.read_point_cloud(model_path)\n",
    "    pcd = np.array(pcd.points)\n",
    "    print('\\t\\tpoint cloud shape:', pcd.shape)\n",
    "    ones = np.ones((pcd.shape[0], 1))\n",
    "    pcd_one = np.concatenate([pcd, ones], axis=1)\n",
    "    return pcd_one"
   ]
  },
  {
   "cell_type": "code",
   "execution_count": 4,
   "metadata": {},
   "outputs": [],
   "source": [
    "def mask_instances(data_dir, company, part, condition, pcd_one):\n",
    "    input_dir = os.path.join(data_dir, company, part, condition)\n",
    "    output_dir = os.path.join(output_data_dir, company, part, condition)\n",
    "    images = glob.glob(os.path.join(input_dir, 'depth','*.png'))\n",
    "    images = [i.split('/')[-1].split('.')[0] for i in images]\n",
    "    sorted(images)\n",
    "    print(f'\\t\\t\\tfound {len(images)} images in {input_dir}')\n",
    "\n",
    "    for i in images:\n",
    "        # depth_path = os.path.join(input_dir, 'depth', f'{i}.png')\n",
    "        # color_path = os.path.join(input_dir, 'images', f'{i}.jpg')\n",
    "        param_path = os.path.join(input_dir, 'images', f'{i}.json')\n",
    "        label_path = os.path.join(input_dir, 'labels', f'{i}.npy')\n",
    "\n",
    "        # read image\n",
    "        # depth = cv2.imread(depth_path, cv2.IMREAD_UNCHANGED)\n",
    "        # color = cv2.imread(color_path, cv2.IMREAD_COLOR)\n",
    "        \n",
    "        # read json\n",
    "        with open(param_path) as f:\n",
    "            params = json.load(f)\n",
    "        image_shape = np.array([params['height'], params['width']], dtype=int)\n",
    "        K = np.array(params['K']).reshape((3,3))\n",
    "        # read numpy\n",
    "        labels = np.load(label_path)\n",
    "\n",
    "        n_instances = len(labels)\n",
    "\n",
    "        for j in range(n_instances):\n",
    "            # read pose label from .npy\n",
    "            pose = labels[j]\n",
    "            # transform model points -> check depth\n",
    "            points = np.matmul(pose, pcd_one.transpose())\n",
    "            # project model points to image\n",
    "            normalized_points = points[:3] / points[2]\n",
    "            pixels = np.matmul(K, normalized_points).astype(int)[:2]\n",
    "            pixels = np.unique(pixels, axis=1)\n",
    "            pixels[0] = np.clip(pixels[0], 0, image_shape[1]-1)\n",
    "            pixels[1] = np.clip(pixels[1], 0, image_shape[0]-1)\n",
    "            pixels = np.unique(pixels, axis=1)\n",
    "            # swap (x ,y) to (y, x)\n",
    "            pixels[[0,1]] = pixels[[1,0]]\n",
    "\n",
    "            y_min, y_max, x_min, x_max = pixels[0].min(), pixels[0].max(), pixels[1].min(), pixels[1].max()\n",
    "            bbox = {\n",
    "                'y_min': int(y_min),\n",
    "                'y_max': int(y_max),\n",
    "                'x_min': int(x_min),\n",
    "                'x_max': int(x_max),\n",
    "                'image_height': int(image_shape[0]),\n",
    "                'image_width': int(image_shape[1])\n",
    "            }\n",
    "\n",
    "            flat_mask = np.zeros(image_shape).ravel()\n",
    "            flat_index_array = np.ravel_multi_index(pixels, image_shape)\n",
    "            flat_mask[flat_index_array] = 255\n",
    "            mask = flat_mask.reshape(image_shape)\n",
    "\n",
    "\n",
    "            file_name = i + f'_{j:04}'\n",
    "            # save mask\n",
    "            mask_dir = os.path.join(output_data_dir, company, part, condition, 'mask')\n",
    "            os.makedirs(mask_dir, exist_ok=True)\n",
    "            mask_path = os.path.join(mask_dir, file_name + '.png')\n",
    "            cv2.imwrite(mask_path, mask)\n",
    "            # save bbox\n",
    "            bbox_dir = os.path.join(output_data_dir, company, part, condition, 'bbox')\n",
    "            os.makedirs(bbox_dir, exist_ok=True)\n",
    "            bbox_path = os.path.join(bbox_dir, file_name + '.json')\n",
    "            with open(bbox_path, 'w') as f:\n",
    "                json.dump(bbox,f)\n",
    "\n",
    "    "
   ]
  },
  {
   "cell_type": "code",
   "execution_count": 5,
   "metadata": {},
   "outputs": [
    {
     "name": "stdout",
     "output_type": "stream",
     "text": [
      "company: Toyota\n",
      "\tpart: 21092302\n",
      "\t\textract model point cloud from: ./2022-11-15/Toyota/21092302/part_info/21092302.master.ply\n",
      "\t\tpoint cloud shape: (54972, 3)\n",
      "\t\tcondition: 2022-10-03-rvbust_synthetic\n",
      "\t\t\tfound 4000 images in ./2022-11-15/Toyota/21092302/2022-10-03-rvbust_synthetic\n"
     ]
    },
    {
     "ename": "KeyboardInterrupt",
     "evalue": "",
     "output_type": "error",
     "traceback": [
      "\u001b[0;31m---------------------------------------------------------------------------\u001b[0m",
      "\u001b[0;31mKeyboardInterrupt\u001b[0m                         Traceback (most recent call last)",
      "Cell \u001b[0;32mIn[5], line 9\u001b[0m\n\u001b[1;32m      7\u001b[0m \u001b[39mfor\u001b[39;00m condition \u001b[39min\u001b[39;00m tiers[company][part]:\n\u001b[1;32m      8\u001b[0m     \u001b[39mprint\u001b[39m(\u001b[39m'\u001b[39m\u001b[39m\\t\u001b[39;00m\u001b[39m\\t\u001b[39;00m\u001b[39mcondition:\u001b[39m\u001b[39m'\u001b[39m, condition)\n\u001b[0;32m----> 9\u001b[0m     mask_instances(data_dir, company, part, condition, pcd_one)\n\u001b[1;32m     10\u001b[0m     \u001b[39mprint\u001b[39m(\u001b[39m'\u001b[39m\u001b[39m\\t\u001b[39;00m\u001b[39m\\t\u001b[39;00m\u001b[39mdone\u001b[39m\u001b[39m'\u001b[39m)\n",
      "Cell \u001b[0;32mIn[4], line 65\u001b[0m, in \u001b[0;36mmask_instances\u001b[0;34m(data_dir, company, part, condition, pcd_one)\u001b[0m\n\u001b[1;32m     63\u001b[0m os\u001b[39m.\u001b[39mmakedirs(mask_dir, exist_ok\u001b[39m=\u001b[39m\u001b[39mTrue\u001b[39;00m)\n\u001b[1;32m     64\u001b[0m mask_path \u001b[39m=\u001b[39m os\u001b[39m.\u001b[39mpath\u001b[39m.\u001b[39mjoin(mask_dir, file_name \u001b[39m+\u001b[39m \u001b[39m'\u001b[39m\u001b[39m.png\u001b[39m\u001b[39m'\u001b[39m)\n\u001b[0;32m---> 65\u001b[0m cv2\u001b[39m.\u001b[39;49mimwrite(mask_path, mask)\n\u001b[1;32m     66\u001b[0m \u001b[39m# save bbox\u001b[39;00m\n\u001b[1;32m     67\u001b[0m bbox_dir \u001b[39m=\u001b[39m os\u001b[39m.\u001b[39mpath\u001b[39m.\u001b[39mjoin(output_data_dir, company, part, condition, \u001b[39m'\u001b[39m\u001b[39mbbox\u001b[39m\u001b[39m'\u001b[39m)\n",
      "\u001b[0;31mKeyboardInterrupt\u001b[0m: "
     ]
    }
   ],
   "source": [
    "if __name__ == '__main__':\n",
    "    for company in tiers.keys():\n",
    "        print('company:', company)\n",
    "        for part in tiers[company].keys():\n",
    "            print('\\tpart:', part)\n",
    "            pcd_one = extract_model_pcd(data_dir, company, part)\n",
    "            for condition in tiers[company][part]:\n",
    "                print('\\t\\tcondition:', condition)\n",
    "                mask_instances(data_dir, company, part, condition, pcd_one)\n",
    "                print('\\t\\tdone')"
   ]
  },
  {
   "cell_type": "code",
   "execution_count": null,
   "metadata": {},
   "outputs": [],
   "source": []
  }
 ],
 "metadata": {
  "kernelspec": {
   "display_name": "base",
   "language": "python",
   "name": "python3"
  },
  "language_info": {
   "codemirror_mode": {
    "name": "ipython",
    "version": 3
   },
   "file_extension": ".py",
   "mimetype": "text/x-python",
   "name": "python",
   "nbconvert_exporter": "python",
   "pygments_lexer": "ipython3",
   "version": "3.10.8"
  },
  "orig_nbformat": 4,
  "vscode": {
   "interpreter": {
    "hash": "5d67f1d30fe333fe1ac343fe16554d0dad921f9405bc1958a4c97cdc9fa3e0ea"
   }
  }
 },
 "nbformat": 4,
 "nbformat_minor": 2
}
