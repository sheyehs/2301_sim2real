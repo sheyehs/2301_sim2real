{
 "cells": [
  {
   "cell_type": "code",
   "execution_count": 10,
   "metadata": {},
   "outputs": [],
   "source": [
    "import os\n",
    "import glob\n",
    "import random\n",
    "import h5py"
   ]
  },
  {
   "cell_type": "code",
   "execution_count": 8,
   "metadata": {},
   "outputs": [],
   "source": [
    "test_ratio = 0.1\n",
    "data_dir = '/scratch/gc2720/2301_sim2real/datasets_pose_estimation_yaoen/data'\n",
    "folders = glob.glob(data_dir + '*')"
   ]
  },
  {
   "cell_type": "code",
   "execution_count": 12,
   "metadata": {},
   "outputs": [],
   "source": [
    "for folder in folders:\n",
    "    instances = []\n",
    "    with h5py.File(os.path.join(folder, 'mask.hdf5')) as f_h5:\n",
    "        for i in f_h5.keys():\n",
    "            if len(f_h5[i].keys()) == 0:\n",
    "                continue\n",
    "            for j in f_h5[i].keys():\n",
    "                instances.append('i'+'_'+'j')\n",
    "    # instances = glob.glob(os.path.join(folder, 'label', '*.json'))\n",
    "    # instances = [i.split('/')[-1].split('.')[0] for i in instances]\n",
    "    n_test = int(test_ratio * len(instances))\n",
    "    instances_test = random.sample(instances, n_test)\n",
    "    instances_train = [i for i in instances if i not in instances_test]\n",
    "    with open(os.path.join(folder, 'test.txt'), 'w') as f:\n",
    "        f.write('\\n'.join(instances_test))\n",
    "    with open(os.path.join(folder, 'train.txt'), 'w') as f:\n",
    "        f.write('\\n'.join(instances_train))"
   ]
  },
  {
   "cell_type": "code",
   "execution_count": null,
   "metadata": {},
   "outputs": [],
   "source": []
  }
 ],
 "metadata": {
  "kernelspec": {
   "display_name": "sim2real",
   "language": "python",
   "name": "python3"
  },
  "language_info": {
   "codemirror_mode": {
    "name": "ipython",
    "version": 3
   },
   "file_extension": ".py",
   "mimetype": "text/x-python",
   "name": "python",
   "nbconvert_exporter": "python",
   "pygments_lexer": "ipython3",
   "version": "3.9.16"
  },
  "orig_nbformat": 4,
  "vscode": {
   "interpreter": {
    "hash": "fd30e1bcc58f630fa8419409969a9b0bc5ac885617d0b24cc2c3a97c27c414c6"
   }
  }
 },
 "nbformat": 4,
 "nbformat_minor": 2
}
